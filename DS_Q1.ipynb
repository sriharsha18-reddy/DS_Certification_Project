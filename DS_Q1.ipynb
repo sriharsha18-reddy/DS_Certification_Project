{
  "nbformat": 4,
  "nbformat_minor": 0,
  "metadata": {
    "colab": {
      "provenance": []
    },
    "kernelspec": {
      "name": "python3",
      "display_name": "Python 3"
    },
    "language_info": {
      "name": "python"
    }
  },
  "cells": [
    {
      "cell_type": "markdown",
      "source": [
        "**QUESTION 1** :\n",
        "\n",
        "You work in a news agency & are responsible for identifying the most important topic for writing articles by your content team. Develop a Jupyter Notebook which on executing every time shows top 10 Twitter trending topics in India in the last 24 hours.\n",
        "\n",
        "1 . *Hints* : Connecting with Twitter API. Bringing Dashboard-like behaviour in Jupyter notebook.\n",
        "\n",
        "2 . *Please note* : Visualisation is mandatory. You will receive 0 marks if you do not add visualisation"
      ],
      "metadata": {
        "id": "xeDvNPcz41Lz"
      }
    },
    {
      "cell_type": "markdown",
      "source": [
        "Import Libraries"
      ],
      "metadata": {
        "id": "TPPQ2ITF5WDw"
      }
    },
    {
      "cell_type": "code",
      "source": [
        "import tweepy\n",
        "import matplotlib.pyplot as plt"
      ],
      "metadata": {
        "id": "_7oeXSXr5TnH"
      },
      "execution_count": null,
      "outputs": []
    },
    {
      "cell_type": "code",
      "source": [
        "CONSUMER_KEY = 'm5eWuBLY7E3UXoFpTCUIGx6f6'\n",
        "CONSUMER_SECRET = 'AsxKyhssdVE3gQvBqnbyji8q9ABKs5P26yHUOMk92YJO1qaRKw'\n",
        "OAUTH_TOKEN = '2285494401-g25JmBopSTj1DMZJd4R9J2k9vgkX75IsB5blbSH'\n",
        "OAUTH_TOKEN_SECRET = 'LksXNzz7o9wAh8IWzYz9j9ZPG9LVeViIEFCb0x5d1w5ay'"
      ],
      "metadata": {
        "id": "NV1bvjvQ5cbr"
      },
      "execution_count": null,
      "outputs": []
    },
    {
      "cell_type": "code",
      "source": [
        "auth = tweepy.OAuthHandler(CONSUMER_KEY, CONSUMER_SECRET)\n",
        "auth.set_access_token(OAUTH_TOKEN, OAUTH_TOKEN_SECRET)\n",
        "api = tweepy.API(auth)"
      ],
      "metadata": {
        "id": "QI0W3_YA5fwh"
      },
      "execution_count": null,
      "outputs": []
    },
    {
      "cell_type": "code",
      "source": [
        "INDIA_WOE_ID = 23424848\n",
        "\n",
        "india_trends = api.get_place_trends(id=INDIA_WOE_ID)"
      ],
      "metadata": {
        "id": "XHTyUOgKsAgI"
      },
      "execution_count": null,
      "outputs": []
    },
    {
      "cell_type": "code",
      "source": [
        "print(india_trends)"
      ],
      "metadata": {
        "id": "XBUCbM9bsEP8"
      },
      "execution_count": null,
      "outputs": []
    },
    {
      "cell_type": "code",
      "source": [
        "top_10_trends = [trend[\"name\"] for trend in india_trends[0][\"trends\"][:10]]"
      ],
      "metadata": {
        "id": "QgMriePI6I_M"
      },
      "execution_count": null,
      "outputs": []
    },
    {
      "cell_type": "code",
      "source": [
        "top_10_trends"
      ],
      "metadata": {
        "id": "c2DlKeEc6IyT"
      },
      "execution_count": null,
      "outputs": []
    },
    {
      "cell_type": "code",
      "source": [
        "print(top_10_trends)"
      ],
      "metadata": {
        "id": "7U7X2FMB6Irf"
      },
      "execution_count": null,
      "outputs": []
    },
    {
      "cell_type": "code",
      "source": [
        "plt.figure(figsize=(10, 6))\n",
        "plt.barh(range(10), top_10_trends, align=\"center\")\n",
        "plt.xlabel(\"Trending Topics\")\n",
        "plt.ylabel(\"Rank\")\n",
        "plt.xticks(rotation=30)\n",
        "plt.title(\"Top 10 Twitter Trending Topics in India (Last 24 hours)\")\n",
        "plt.gca().invert_yaxis()\n",
        "plt.show()"
      ],
      "metadata": {
        "id": "9diwsImB6Iei"
      },
      "execution_count": null,
      "outputs": []
    }
  ]
}